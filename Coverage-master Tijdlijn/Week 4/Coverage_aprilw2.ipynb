{
 "cells": [
  {
   "cell_type": "markdown",
   "metadata": {},
   "source": [
    "SLAMming with Spheros\n",
    "=====\n",
    "\n",
    "##### IPython Notebook\n",
    "The complete coverage is available in at [Coverage](https://github.com/srinivaskandasamy/Coverage/tree/master/aprilw2)"
   ]
  },
  {
   "cell_type": "markdown",
   "metadata": {},
   "source": [
    "Weekly Report\n",
    "====\n",
    "***"
   ]
  },
  {
   "cell_type": "markdown",
   "metadata": {},
   "source": [
    "Wednesday, April $8^{th}$, 2015\n",
    "----\n",
    "\n",
    "### Meeting with Tamas\n",
    "\n",
    "1. Sphero odometry freezes at corner collisions\n",
    "    - Resetting the stabilization loop if needed\n",
    "    - Introduce the next Sphero in such situations if not corrected\n",
    "2. Created Artificial world in GUI\n",
    "    - Real Sphero object implemented\n",
    "    - In Anim [folder](https://github.com/srinivaskandasamy/Coverage/tree/master/marchw4-april1/Anim)\n",
    "3. Implementing a Finite State Machine \n",
    "    - Orientation in a simple FSM\n",
    "    - Position incorporation if needed\n",
    "4. Collision detection in simulation using half-plane constraints\n",
    "    - Incorporation of wall constraints to improve pose estimates\n",
    "    - Tamas prefers wall constraints rather than box constraints\n",
    "    \n",
    "### Animated version of GUI\n",
    "\n",
    "Added a slider and next button to  view the animated part of Sphero"
   ]
  },
  {
   "cell_type": "markdown",
   "metadata": {},
   "source": [
    "Thursday, April $9^{th}$, 2015\n",
    "----\n",
    "\n",
    "### Problems related to motion after collision\n",
    "\n",
    "1. The robot exectutes curvilinear motion after the collision due to the reaction impact force from the wall, in addition to the input force in other direction.\n",
    "2. A possible solution is to stop the ball at the point of impact, turn and then move with a new heading\n",
    "    - The robot executes a motion due to the natural ball dynamics due to the reaction from the impact force; a possible solution is to remove robot stabilization which freezes the ball's motion at the point of impact; still unable to stop the motion due to ball dynamics\n",
    "    - A feedback loop to pull the ball back to to point of collision; noisy"
   ]
  },
  {
   "cell_type": "markdown",
   "metadata": {},
   "source": [
    "Friday, April $10^{th}$, 2015\n",
    "----\n",
    "\n",
    "### Problems related to motion after collision\n",
    "\n",
    "It is better not to stop the ball after collision but the effect can be reduced by reducing the speed of the ball\n",
    "\n",
    "### Corridor Mapping\n",
    "\n",
    "1. The robot is not stopped after collision\n",
    "2. Hyperplane correction is used for every collision\n",
    "3. Need to implement cailbration after every consecutive collision- Following are the steps to calibrate the Sphero (Not an official one)\n",
    "    - Switch on the back-LED for calibration check\n",
    "    - Switch off the stabilization loop\n",
    "    - Move the Sphero manually to the desired heading \n",
    "    - Set the new heading as 0 or rename it to a new heading if the above step is not followed\n",
    "    - Switch on the stabilization loop\n",
    "    - Switch off the back LED\n",
    "4. The reflection angle of the ball is sensitive to the ball speed\n",
    "5. The corridor is mapped using a Sphero and the measurements from the camera and Sphero are saved to files.\n",
    "6. The corridor width for a good consecutive collsision readings is close to 10 times the diameter of the ball = 70cm\n",
    "\n",
    "### Maze to be constructed\n",
    "\n",
    "1. Diameter of the ball = 7.25 cm (from vernier calliper)\n",
    "2. 'Optimal' corrridor width = 10 * 7.25 = 72.5 cm\n",
    "\n",
    "**Requirements-**\n",
    "Boundary - length = 4 * corridor width  = 300 cm x 4 nos.\n",
    "Inner walls = Length of boudary/2 = 150 cm * 3 nos. minimum\n",
    "\n",
    "**If we go for a modular structure-**\n",
    "Total length (minimum) - 1540 cm -- (280*4+140*3)\n",
    "Length of a smaller block - 70 cm\n",
    "Number of blocks required - 22"
   ]
  },
  {
   "cell_type": "code",
   "execution_count": null,
   "metadata": {},
   "outputs": [],
   "source": [
    "# Python code for corridor mapping\n",
    "%run Plotting_Sphero.ipynb"
   ]
  },
  {
   "cell_type": "markdown",
   "metadata": {},
   "source": [
    "Tuesday-Friday, April $14^{th}-17^{th}$, 2015\n",
    "----\n",
    "\n",
    "### GUI Creation with a map of collisions\n",
    "Implemented artificial world completely and a map created out of collisions"
   ]
  },
  {
   "cell_type": "code",
   "execution_count": 20,
   "metadata": {},
   "outputs": [
    {
     "name": "stdout",
     "output_type": "stream",
     "text": [
      "C:\\Users\\localadmin.TUD0035314\n",
      "C:\\Users\\localadmin.TUD0035314\\Documents\\GitHub\\New_world\n"
     ]
    },
    {
     "data": {
      "image/png": "[encoded data removed]",
      "text/plain": [
       "<matplotlib.figure.Figure at 0xcbef048>"
      ]
     },
     "metadata": {},
     "output_type": "display_data"
    }
   ],
   "source": [
    "# Python code of the artificial world\n",
    "%cd \n",
    "%cd Documents\\GitHub\\New_world\n",
    "%run ball_in_a_room.ipynb"
   ]
  },
  {
   "cell_type": "code",
   "execution_count": 1,
   "metadata": {},
   "outputs": [
    {
     "data": {
      "text/html": [
       "<style>\n",
       "    @font-face {\n",
       "        font-family: \"Computer Modern\";\n",
       "        src: url('http://9dbb143991406a7c655e-aa5fcb0a5a4ec34cff238a2d56ca4144.r56.cf5.rackcdn.com/cmunss.otf');\n",
       "    }\n",
       "    @font-face {\n",
       "        font-family: \"Computer Modern\";\n",
       "        font-weight: bold;\n",
       "        src: url('http://9dbb143991406a7c655e-aa5fcb0a5a4ec34cff238a2d56ca4144.r56.cf5.rackcdn.com/cmunsx.otf');\n",
       "    }\n",
       "    @font-face {\n",
       "        font-family: \"Computer Modern\";\n",
       "        font-style: oblique;\n",
       "        src: url('http://9dbb143991406a7c655e-aa5fcb0a5a4ec34cff238a2d56ca4144.r56.cf5.rackcdn.com/cmunsi.otf');\n",
       "    }\n",
       "    @font-face {\n",
       "        font-family: \"Computer Modern\";\n",
       "        font-weight: bold;\n",
       "        font-style: oblique;\n",
       "        src: url('http://9dbb143991406a7c655e-aa5fcb0a5a4ec34cff238a2d56ca4144.r56.cf5.rackcdn.com/cmunso.otf');\n",
       "    }\n",
       "    div.cell{\n",
       "        width:800px;\n",
       "        margin-left:16% !important;\n",
       "        margin-right:auto;\n",
       "    }\n",
       "    h1 {\n",
       "        font-family: Helvetica, serif;\n",
       "    }\n",
       "    h4{\n",
       "        margin-top:12px;\n",
       "        margin-bottom: 3px;\n",
       "       }\n",
       "    div.text_cell_render{\n",
       "        font-family: Computer Modern, \"Helvetica Neue\", Arial, Helvetica, Geneva, sans-serif;\n",
       "        line-height: 145%;\n",
       "        font-size: 130%;\n",
       "        width:800px;\n",
       "        margin-left:auto;\n",
       "        margin-right:auto;\n",
       "    }\n",
       "    .CodeMirror{\n",
       "            font-family: \"Source Code Pro\", source-code-pro,Consolas, monospace;\n",
       "    }\n",
       "    .prompt{\n",
       "        display: None;\n",
       "    }\n",
       "    .text_cell_render h5 {\n",
       "        font-weight: 300;\n",
       "        font-size: 22pt;\n",
       "        color: #4057A1;\n",
       "        font-style: italic;\n",
       "        margin-bottom: .5em;\n",
       "        margin-top: 0.5em;\n",
       "        display: block;\n",
       "    }\n",
       "    \n",
       "    .warning{\n",
       "        color: rgb( 240, 20, 20 )\n",
       "        }  \n",
       "</style>\n",
       "<script>\n",
       "    MathJax.Hub.Config({\n",
       "                        TeX: {\n",
       "                           extensions: [\"AMSmath.js\"]\n",
       "                           },\n",
       "                tex2jax: {\n",
       "                    inlineMath: [ ['$','$'], [\"\\\\(\",\"\\\\)\"] ],\n",
       "                    displayMath: [ ['$$','$$'], [\"\\\\[\",\"\\\\]\"] ]\n",
       "                },\n",
       "                displayAlign: 'center', // Change this to 'center' to center equations.\n",
       "                \"HTML-CSS\": {\n",
       "                    styles: {'.MathJax_Display': {\"margin\": 4}}\n",
       "                }\n",
       "        });\n",
       "</script>\n"
      ],
      "text/plain": [
       "<IPython.core.display.HTML object>"
      ]
     },
     "execution_count": 1,
     "metadata": {},
     "output_type": "execute_result"
    }
   ],
   "source": [
    "from IPython.core.display import HTML\n",
    "\n",
    "\n",
    "def css_styling():\n",
    "    styles = open(\"../styles/custom.css\", \"r\").read()\n",
    "    return HTML(styles)\n",
    "css_styling()"
   ]
  }
 ],
 "metadata": {
  "kernelspec": {
   "display_name": "Python 3",
   "language": "python",
   "name": "python3"
  },
  "language_info": {
   "codemirror_mode": {
    "name": "ipython",
    "version": 3
   },
   "file_extension": ".py",
   "mimetype": "text/x-python",
   "name": "python",
   "nbconvert_exporter": "python",
   "pygments_lexer": "ipython3",
   "version": "3.6.1"
  }
 },
 "nbformat": 4,
 "nbformat_minor": 1
}
